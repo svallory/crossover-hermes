{
  "cells": [
    {
      "cell_type": "markdown",
      "metadata": {},
      "source": "# Sample with Curly Brace Attributes\n\nThis file demonstrates the use of curly brace attributes in markdown code blocks.\n\n## Regular Python Cell\n\n"
    },
    {
      "cell_type": "code",
      "execution_count": null,
      "metadata": {},
      "outputs": [],
      "source": "# This is a regular Python cell\nx = 5\nprint(f\"x = {x}\")\n"
    },
    {
      "cell_type": "markdown",
      "metadata": {},
      "source": "\n\n## JavaScript Cell with {cell} Attribute\n\nJavaScript code would normally be included as a markdown code block, but with the {cell} attribute it becomes a code cell:\n\n"
    },
    {
      "cell_type": "code",
      "execution_count": null,
      "metadata": {},
      "outputs": [],
      "source": "// This JavaScript code will become a code cell\nlet message = \"Hello, world!\";\nconsole.log(message);\n"
    },
    {
      "cell_type": "markdown",
      "metadata": {},
      "source": "\n\n## JavaScript with explicit cell=true\n\n"
    },
    {
      "cell_type": "code",
      "execution_count": null,
      "metadata": {},
      "outputs": [],
      "source": "// This JavaScript code will become a code cell with explicit true value\nlet numbers = [1, 2, 3, 4, 5];\nnumbers.forEach(n => console.log(n * 2));\n"
    },
    {
      "cell_type": "markdown",
      "metadata": {},
      "source": "\n\n## JavaScript with quoted cell value\n\n"
    },
    {
      "cell_type": "code",
      "execution_count": null,
      "metadata": {},
      "outputs": [],
      "source": "// This JavaScript code will become a code cell with quoted true value\ndocument.addEventListener('DOMContentLoaded', () => {\n  console.log('Document loaded');\n});\n"
    },
    {
      "cell_type": "markdown",
      "metadata": {},
      "source": "\n\n## Regular JavaScript (as markdown)\n\nThis JavaScript code doesn't have the {cell} attribute, so it stays as markdown:\n\n"
    },
    {
      "cell_type": "markdown",
      "metadata": {},
      "source": "```javascript\n// This will remain a markdown code block\nlet x = 10;\nconsole.log(x);\n\n```"
    },
    {
      "cell_type": "markdown",
      "metadata": {},
      "source": "\n\n## Bash with Cell Attribute\n\n"
    },
    {
      "cell_type": "code",
      "execution_count": null,
      "metadata": {},
      "outputs": [],
      "source": "# This will become a code cell even though it's bash\necho \"Hello from bash\"\nls -la\n"
    },
    {
      "cell_type": "markdown",
      "metadata": {},
      "source": "\n\n## Complex Attributes\n\nThe parser supports complex attribute formats:\n\n"
    },
    {
      "cell_type": "code",
      "execution_count": null,
      "metadata": {},
      "outputs": [],
      "source": "# The parser will see the \"cell\" keyword and make this a code cell\n# Other attributes could be used for metadata in the future\nimport matplotlib.pyplot as plt\nplt.plot([1, 2, 3, 4])\nplt.show()\n"
    }
  ],
  "metadata": {
    "kernelspec": {
      "display_name": "Python 3",
      "language": "python",
      "name": "python3"
    },
    "language_info": {
      "name": "python"
    }
  },
  "nbformat": 4,
  "nbformat_minor": 0
}