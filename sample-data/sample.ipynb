{
  "cells": [
    {
      "cell_type": "code",
      "execution_count": null,
      "metadata": {},
      "outputs": [],
      "source": "# Regular Python code cell\nimport numpy as np\nimport matplotlib.pyplot as plt\n\n# Regular comments stay with the code\nx = np.linspace(0, 10, 100)\ny = np.sin(x)\n\n"
    },
    {
      "cell_type": "markdown",
      "metadata": {},
      "source": "\n# # Markdown Cell\n# This is a markdown cell with some formatting:\n# - Item 1\n# - Item 2\n# \n# And math: $y = sin(x)$\n\n"
    },
    {
      "cell_type": "code",
      "execution_count": null,
      "metadata": {},
      "outputs": [],
      "source": "# Another code cell\nplt.figure(figsize=(10, 6))\nplt.plot(x, y)\nplt.title('Sine Wave')\nplt.xlabel('x')\nplt.ylabel('sin(x)')\n\n# This comment stays with the code\nplt.grid(True)\n\n"
    },
    {
      "cell_type": "markdown",
      "metadata": {},
      "source": "\n# ## Results\n# The graph above shows a sine wave plotted from 0 to 10.\n\n"
    },
    {
      "cell_type": "code",
      "execution_count": null,
      "metadata": {},
      "outputs": [],
      "source": "# Final code cell\nprint(\"Maximum value:\", np.max(y))\nprint(\"Minimum value:\", np.min(y)) "
    }
  ],
  "metadata": {
    "kernelspec": {
      "display_name": "Python 3",
      "language": "python",
      "name": "python3"
    },
    "language_info": {
      "name": "python"
    }
  },
  "nbformat": 4,
  "nbformat_minor": 0
}