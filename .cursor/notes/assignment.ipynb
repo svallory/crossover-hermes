{
 "cells": [
  {
   "cell_type": "markdown",
   "metadata": {
    "id": "e0n49UaWPGAd"
   },
   "source": [
    "# Solve Business Problems with AI - Codename: Hermes\n",
    "\n",
    "## Objective\n",
    "Develop a proof-of-concept application to intelligently process email order requests and customer inquiries for a fashion store. The system should accurately categorize emails as either product inquiries or order requests and generate appropriate responses using the product catalog information and current stock status.\n",
    "\n",
    "You are encouraged to use AI assistants (like ChatGPT or Claude) and any IDE of your choice to develop your solution. Many modern IDEs (such as PyCharm, or Cursor) can work with Jupiter files directly.\n",
    "\n",
    "## Task Description\n",
    "\n",
    "### Inputs\n",
    "\n",
    "Google Spreadsheet **[Document](https://docs.google.com/spreadsheets/d/14fKHsblfqZfWj3iAaM2oA51TlYfQlFT4WKo52fVaQ9U)** containing:\n",
    "\n",
    "- **Products**: List of products with fields including product ID, name, category, stock amount, detailed description, and season.\n",
    "\n",
    "- **Emails**: Sequential list of emails with fields such as email ID, subject, and body.\n",
    "\n",
    "### Instructions\n",
    "\n",
    "- Implement all requirements using advanced Large Language Models (LLMs) to handle complex tasks, process extensive data, and generate accurate outputs effectively.\n",
    "- Use Retrieval-Augmented Generation (RAG) and vector store techniques where applicable to retrieve relevant information and generate responses.\n",
    "- You are provided with a temporary OpenAI API key granting access to GPT-4o, which has a token quota. Use it wisely or use your own key if preferred.\n",
    "- Address the requirements in the order listed. Review them in advance to develop a general implementation plan before starting.\n",
    "- Your deliverables should include:\n",
    "   - Code developed within this notebook.\n",
    "   - A single spreadsheet containing results, organized across separate sheets.\n",
    "   - Comments detailing your thought process.\n",
    "- You may use additional libraries (e.g., langchain) to streamline the solution. Use libraries appropriately to align with best practices for AI and LLM tools.\n",
    "- Use the most suitable AI techniques for each task. Note that solving tasks with traditional programming methods will not earn points, as this assessment evaluates your knowledge of LLM tools and best practices.\n",
    "\n",
    "### Requirements\n",
    "\n",
    "#### 1. Classify emails\n",
    "    \n",
    "Classify each email as either a _**\"product inquiry\"**_ or an _**\"order request\"**_. Ensure that the classification accurately reflects the intent of the email.\n",
    "\n",
    "**Output**: Populate the **email-classification** sheet with columns: email ID, category.\n",
    "\n",
    "#### 2. Process order requests\n",
    "1.   Process orders\n",
    "  - For each order request, verify product availability in stock.\n",
    "  - If the order can be fulfilled, create a new order line with the status “created”.\n",
    "  - If the order cannot be fulfilled due to insufficient stock, create a line with the status “out of stock” and include the requested quantity.\n",
    "  - Update stock levels after processing each order.\n",
    "  - Record each product request from the email.\n",
    "  - **Output**: Populate the **order-status** sheet with columns: email ID, product ID, quantity, status (**_\"created\"_**, **_\"out of stock\"_**).\n",
    "\n",
    "2.   Generate responses\n",
    "  - Create response emails based on the order processing results:\n",
    "      - If the order is fully processed, inform the customer and provide product details.\n",
    "      - If the order cannot be fulfilled or is only partially fulfilled, explain the situation, specify the out-of-stock items, and suggest alternatives or options (e.g., waiting for restock).\n",
    "  - Ensure the email tone is professional and production-ready.\n",
    "  - **Output**: Populate the **order-response** sheet with columns: email ID, response.\n",
    "\n",
    "#### 3. Handle product inquiry\n",
    "\n",
    "Customers may ask general open questions.\n",
    "  - Respond to product inquiries using relevant information from the product catalog.\n",
    "  - Ensure your solution scales to handle a full catalog of over 100,000 products without exceeding token limits. Avoid including the entire catalog in the prompt.\n",
    "  - **Output**: Populate the **inquiry-response** sheet with columns: email ID, response.\n",
    "\n",
    "## Evaluation Criteria\n",
    "- **Advanced AI Techniques**: The system should use Retrieval-Augmented Generation (RAG) and vector store techniques to retrieve relevant information from data sources and use it to respond to customer inquiries.\n",
    "- **Tone Adaptation**: The AI should adapt its tone appropriately based on the context of the customer's inquiry. Responses should be informative and enhance the customer experience.\n",
    "- **Code Completeness**: All functionalities outlined in the requirements must be fully implemented and operational as described.\n",
    "- **Code Quality and Clarity**: The code should be well-organized, with clear logic and a structured approach. It should be easy to understand and maintain.\n",
    "- **Presence of Expected Outputs**: All specified outputs must be correctly generated and saved in the appropriate sheets of the output spreadsheet. Ensure the format of each output matches the requirements—do not add extra columns or sheets.\n",
    "- **Accuracy of Outputs**: The accuracy of the generated outputs is crucial and will significantly impact the evaluation of your submission.\n",
    "\n",
    "We look forward to seeing your solution and your approach to solving real-world problems with AI technologies."
   ]
  },
  {
   "cell_type": "markdown",
   "metadata": {},
   "source": [
    "# Environment"
   ]
  },
  {
   "cell_type": "code",
   "execution_count": null,
   "metadata": {},
   "outputs": [],
   "source": [
    "INPUT_SPREADSHEET_ID = \"14fKHsblfqZfWj3iAaM2oA51TlYfQlFT4WKo52fVaQ9U\""
   ]
  },
  {
   "cell_type": "markdown",
   "metadata": {
    "id": "GOUEcKe-xSPr"
   },
   "source": [
    "# Prerequisites"
   ]
  },
  {
   "cell_type": "markdown",
   "metadata": {
    "id": "otSVe-sQ-CsW"
   },
   "source": [
    "### Configure OpenAI API Key."
   ]
  },
  {
   "cell_type": "code",
   "execution_count": null,
   "metadata": {
    "id": "UvOkHAkDghww"
   },
   "outputs": [],
   "source": [
    "# Install the OpenAI Python package.\n",
    "%pip install openai httpx==0.27.2"
   ]
  },
  {
   "cell_type": "markdown",
   "metadata": {
    "id": "IKJf-dPLwXMu"
   },
   "source": [
    "**IMPORTANT: If you are going to use our custom API Key then make sure that you also use custom base URL as in example below. Otherwise it will not work.**"
   ]
  },
  {
   "cell_type": "code",
   "execution_count": null,
   "metadata": {
    "id": "caEG5zIMw8DV"
   },
   "outputs": [],
   "source": [
    "# Code example of OpenAI communication\n",
    "\n",
    "from openai import OpenAI\n",
    "\n",
    "client = OpenAI(\n",
    "    # In order to use provided API key, make sure that models you create point to this custom base URL.\n",
    "    base_url=\"https://47v4us7kyypinfb5lcligtc3x40ygqbs.lambda-url.us-east-1.on.aws/v1/\",\n",
    "    # The temporary API key giving access to ChatGPT 4o model. Quotas apply: you have 500'000 input and 500'000 output tokens, use them wisely ;)\n",
    "    api_key=\"<OPENAI API KEY: Use one provided by Crossover or your own>\",\n",
    ")\n",
    "\n",
    "completion = client.chat.completions.create(\n",
    "    model=\"gpt-4o\", messages=[{\"role\": \"user\", \"content\": \"Hello!\"}]\n",
    ")\n",
    "\n",
    "print(completion.choices[0].message)"
   ]
  },
  {
   "cell_type": "code",
   "execution_count": null,
   "metadata": {
    "id": "shE97VzGwZ4v"
   },
   "outputs": [],
   "source": [
    "# Code example of reading input data\n",
    "\n",
    "import pandas as pd\n",
    "from IPython.display import display\n",
    "\n",
    "\n",
    "def read_data_frame(document_id, sheet_name):\n",
    "    export_link = f\"https://docs.google.com/spreadsheets/d/{document_id}/gviz/tq?tqx=out:csv&sheet={sheet_name}\"\n",
    "    return pd.read_csv(export_link)\n",
    "\n",
    "\n",
    "document_id = \"14fKHsblfqZfWj3iAaM2oA51TlYfQlFT4WKo52fVaQ9U\"\n",
    "products_df = read_data_frame(document_id, \"products\")\n",
    "emails_df = read_data_frame(document_id, \"emails\")\n",
    "\n",
    "# Display first 3 rows of each DataFrame\n",
    "display(products_df.head(3))\n",
    "display(emails_df.head(3))"
   ]
  },
  {
   "cell_type": "code",
   "execution_count": null,
   "metadata": {
    "id": "_OTC44s1oJhb"
   },
   "outputs": [],
   "source": [
    "# Code example of generating output document\n",
    "\n",
    "# Creates a new shared Google Worksheet every invocation with the proper structure\n",
    "# Note: This code should be executed from the google colab once you are ready, it will not work locally\n",
    "from google.colab import auth\n",
    "import gspread\n",
    "from google.auth import default\n",
    "from gspread_dataframe import set_with_dataframe\n",
    "\n",
    "# IMPORTANT: You need to authenticate the user to be able to create new worksheet\n",
    "# Insert the authentication snippet from the official documentation to create a google client:\n",
    "# https://colab.research.google.com/notebooks/io.ipynb#scrollTo=qzi9VsEqzI-o\n",
    "\n",
    "# This code goes after creating google client\n",
    "output_document = gc.create(\"Solving Business Problems with AI - Output\")\n",
    "\n",
    "# Create 'email-classification' sheet\n",
    "email_classification_sheet = output_document.add_worksheet(\n",
    "    title=\"email-classification\", rows=50, cols=2\n",
    ")\n",
    "email_classification_sheet.update([[\"email ID\", \"category\"]], \"A1:B1\")\n",
    "\n",
    "# Example of writing the data into the sheet\n",
    "# Assuming you have your classification in the email_classification_df DataFrame\n",
    "# set_with_dataframe(email_classification_sheet, email_classification_df)\n",
    "# Or directly update cells: https://docs.gspread.org/en/latest/user-guide.html#updating-cells\n",
    "\n",
    "# Create 'order-status' sheet\n",
    "order_status_sheet = output_document.add_worksheet(\n",
    "    title=\"order-status\", rows=50, cols=4\n",
    ")\n",
    "order_status_sheet.update([[\"email ID\", \"product ID\", \"quantity\", \"status\"]], \"A1:D1\")\n",
    "\n",
    "# Create 'order-response' sheet\n",
    "order_response_sheet = output_document.add_worksheet(\n",
    "    title=\"order-response\", rows=50, cols=2\n",
    ")\n",
    "order_response_sheet.update([[\"email ID\", \"response\"]], \"A1:B1\")\n",
    "\n",
    "# Create 'inquiry-response' sheet\n",
    "inquiry_response_sheet = output_document.add_worksheet(\n",
    "    title=\"inquiry-response\", rows=50, cols=2\n",
    ")\n",
    "inquiry_response_sheet.update([[\"email ID\", \"response\"]], \"A1:B1\")\n",
    "\n",
    "# Share the spreadsheet publicly\n",
    "output_document.share(\"\", perm_type=\"anyone\", role=\"reader\")\n",
    "\n",
    "# This is the solution output link, paste it into the submission form\n",
    "print(f\"Shareable link: https://docs.google.com/spreadsheets/d/{output_document.id}\")"
   ]
  },
  {
   "cell_type": "markdown",
   "metadata": {
    "id": "zyvqJ-BUNKQR"
   },
   "source": [
    "# Task 1. Classify emails"
   ]
  },
  {
   "cell_type": "markdown",
   "metadata": {
    "id": "lm3ZeatjYjM3"
   },
   "source": [
    "# Task 2. Process order requests"
   ]
  },
  {
   "cell_type": "markdown",
   "metadata": {
    "id": "29ExT_MQRhos"
   },
   "source": [
    "# Task 3. Handle product inquiry"
   ]
  }
 ],
 "metadata": {
  "colab": {
   "provenance": []
  },
  "kernelspec": {
   "display_name": "Python 3",
   "name": "python3"
  },
  "language_info": {
   "name": "python"
  }
 },
 "nbformat": 4,
 "nbformat_minor": 0
}
