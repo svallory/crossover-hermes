{
  "cells": [
    {
      "cell_type": "code",
      "execution_count": null,
      "metadata": {},
      "outputs": [],
      "source": "# This is a regular Python code cell\nimport numpy as np\nimport matplotlib.pyplot as plt\n\n# Regular comments stay with the code\nx = np.linspace(0, 10, 100)\ny = np.sin(x)\n\n"
    },
    {
      "cell_type": "markdown",
      "metadata": {},
      "source": "# Markdown Cell\nThis is a markdown cell with some formatting:\n- Item 1\n- Item 2\n\nAnd math: $y = sin(x)$\n"
    },
    {
      "cell_type": "code",
      "execution_count": null,
      "metadata": {},
      "outputs": [],
      "source": "\n\n# Another code cell\nplt.figure(figsize=(10, 6))\nplt.plot(x, y)\nplt.title('Sine Wave')\nplt.xlabel('x')\nplt.ylabel('sin(x)')\n\n# This comment stays with the code\nplt.grid(True)\n\n"
    },
    {
      "cell_type": "markdown",
      "metadata": {},
      "source": "## Results\nThe graph above shows a sine wave plotted from 0 to 10.\n"
    },
    {
      "cell_type": "code",
      "execution_count": null,
      "metadata": {},
      "outputs": [],
      "source": "\n\n# Final code cell\nprint(\"Maximum value:\", np.max(y))\nprint(\"Minimum value:\", np.min(y)) "
    }
  ],
  "metadata": {
    "kernelspec": {
      "display_name": "Python 3",
      "language": "python",
      "name": "python3"
    },
    "language_info": {
      "name": "python"
    }
  },
  "nbformat": 4,
  "nbformat_minor": 0
}